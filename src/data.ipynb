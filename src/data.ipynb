{
 "cells": [
  {
   "cell_type": "code",
   "execution_count": 2,
   "metadata": {},
   "outputs": [],
   "source": [
    "import librosa\n",
    "import numpy as np\n",
    "import matplotlib as plt\n",
    "import matplotlib.pyplot as plt\n",
    "import pandas as pd\n",
    "import seaborn as sns\n",
    "import json\n",
    "import os\n"
   ]
  },
  {
   "cell_type": "markdown",
   "metadata": {},
   "source": [
    "# File structuring"
   ]
  },
  {
   "cell_type": "markdown",
   "metadata": {},
   "source": [
    "First, set up the `DATA_ROOT`"
   ]
  },
  {
   "cell_type": "code",
   "execution_count": 3,
   "metadata": {},
   "outputs": [],
   "source": [
    "DATA_ROOT = '../data/openmic-2018/'\n",
    "\n",
    "if not os.path.exists(DATA_ROOT):\n",
    "    raise ValueError('Did you forget to set `DATA_ROOT`?')"
   ]
  },
  {
   "cell_type": "markdown",
   "metadata": {},
   "source": [
    "Load the `OPENMIC` dataset"
   ]
  },
  {
   "cell_type": "code",
   "execution_count": 4,
   "metadata": {},
   "outputs": [],
   "source": [
    "import numpy as np\n",
    "OPENMIC = np.load(os.path.join(DATA_ROOT, 'openmic-2018.npz'), allow_pickle=True)"
   ]
  },
  {
   "cell_type": "markdown",
   "metadata": {},
   "source": [
    "The contents of the dataset is described in detail on the [OPENMIC's Official Github](https://github.com/cosmir/openmic-2018/blob/master/examples/modeling-baseline.ipynb). It contains VGGish features, which are to be excluded, as we want to replicate the analysis of [Predominant Musical Instrument Classification based on Spectral Features\n",
    "](https://arxiv.org/abs/1912.02606) (PMICSF)."
   ]
  },
  {
   "cell_type": "code",
   "execution_count": 5,
   "metadata": {},
   "outputs": [],
   "source": [
    "X, Y_true, Y_mask, sample_key = OPENMIC['X'], OPENMIC['Y_true'], OPENMIC['Y_mask'], OPENMIC['sample_key']"
   ]
  },
  {
   "cell_type": "markdown",
   "metadata": {},
   "source": [
    "# Feature extraction\n",
    "The goal is to replicate the approach of [PMICSF](https://arxiv.org/abs/1912.02606). The features used in the article are:\n",
    "\n",
    "* **Zero Crossing Rate** (ZCR):  indicates the rate at which the signal crosses zero.\n",
    "* **Spectral Centroid** (SC): a metric that indicate the center of mass of the spectrum being located. It is *\"the ratio of the frequency weighted magnitude spectrum with unweighted magnitude spectrum\"*\n",
    "* **Spectral Bandwidth** (SB): gives the weighted average of the frequency signal by its spectrum.\n",
    "* **Spectral roll-off** (SR):  the frequency under which a certain proportion of the overall spectral energy belongs to\n",
    "* **MFCC**: the meaon of the first 13 MFCC features.\n",
    "\n",
    "We intend to  calculate these features for the `OPENMIC` dataset, and store them in a Panda's Dataframe ordered by sample key. The sample keys are available in the `sample_key` list produced in the code block above.\n",
    "\n",
    "\n",
    "> **Question**: what did they use on Librosa? Same?"
   ]
  },
  {
   "cell_type": "markdown",
   "metadata": {},
   "source": [
    "From PMICSF, page 3:\n",
    "\n",
    ">  The audio spectrum is analyzed by extracting MFCCs based on the default inputs of hopSize (hop length between frames) and frame size. The default parameters for sampling rate is 44.1 kHz, **hopSize of 512** and **frame size of 1024** in Essentia\n",
    "\n",
    "For convinience, and according to [Presets](https://librosa.org/blog/2019/07/17/resample-on-load/), we set the default parameters of Librosa to match those values. "
   ]
  },
  {
   "cell_type": "code",
   "execution_count": 6,
   "metadata": {},
   "outputs": [],
   "source": [
    "# first define the default values to match PMICSF\n",
    "# TODO: why import it as _librosa?\n",
    "from presets import Preset\n",
    "import librosa as _librosa\n",
    "librosa = Preset(_librosa)\n",
    "librosa['n_fft'] = 2048\n",
    "librosa['win_length'] = 1024\n",
    "librosa['hop_length'] = 512"
   ]
  },
  {
   "cell_type": "markdown",
   "metadata": {},
   "source": [
    "To find all audio files in the dataset, Librosa's util function [find_files](https://librosa.org/doc/main/generated/librosa.util.find_files.html) was used:"
   ]
  },
  {
   "cell_type": "code",
   "execution_count": 7,
   "metadata": {},
   "outputs": [
    {
     "data": {
      "text/html": [
       "<div>\n",
       "<style scoped>\n",
       "    .dataframe tbody tr th:only-of-type {\n",
       "        vertical-align: middle;\n",
       "    }\n",
       "\n",
       "    .dataframe tbody tr th {\n",
       "        vertical-align: top;\n",
       "    }\n",
       "\n",
       "    .dataframe thead th {\n",
       "        text-align: right;\n",
       "    }\n",
       "</style>\n",
       "<table border=\"1\" class=\"dataframe\">\n",
       "  <thead>\n",
       "    <tr style=\"text-align: right;\">\n",
       "      <th></th>\n",
       "      <th>file_path</th>\n",
       "      <th>sample_key</th>\n",
       "    </tr>\n",
       "  </thead>\n",
       "  <tbody>\n",
       "    <tr>\n",
       "      <th>0</th>\n",
       "      <td>/workspaces/instrument-detection/data/openmic-...</td>\n",
       "      <td>000046_3840</td>\n",
       "    </tr>\n",
       "    <tr>\n",
       "      <th>1</th>\n",
       "      <td>/workspaces/instrument-detection/data/openmic-...</td>\n",
       "      <td>000135_483840</td>\n",
       "    </tr>\n",
       "    <tr>\n",
       "      <th>2</th>\n",
       "      <td>/workspaces/instrument-detection/data/openmic-...</td>\n",
       "      <td>000139_119040</td>\n",
       "    </tr>\n",
       "    <tr>\n",
       "      <th>3</th>\n",
       "      <td>/workspaces/instrument-detection/data/openmic-...</td>\n",
       "      <td>000141_153600</td>\n",
       "    </tr>\n",
       "    <tr>\n",
       "      <th>4</th>\n",
       "      <td>/workspaces/instrument-detection/data/openmic-...</td>\n",
       "      <td>000144_30720</td>\n",
       "    </tr>\n",
       "    <tr>\n",
       "      <th>...</th>\n",
       "      <td>...</td>\n",
       "      <td>...</td>\n",
       "    </tr>\n",
       "    <tr>\n",
       "      <th>19995</th>\n",
       "      <td>/workspaces/instrument-detection/data/openmic-...</td>\n",
       "      <td>155294_184320</td>\n",
       "    </tr>\n",
       "    <tr>\n",
       "      <th>19996</th>\n",
       "      <td>/workspaces/instrument-detection/data/openmic-...</td>\n",
       "      <td>155295_76800</td>\n",
       "    </tr>\n",
       "    <tr>\n",
       "      <th>19997</th>\n",
       "      <td>/workspaces/instrument-detection/data/openmic-...</td>\n",
       "      <td>155307_211200</td>\n",
       "    </tr>\n",
       "    <tr>\n",
       "      <th>19998</th>\n",
       "      <td>/workspaces/instrument-detection/data/openmic-...</td>\n",
       "      <td>155310_372480</td>\n",
       "    </tr>\n",
       "    <tr>\n",
       "      <th>19999</th>\n",
       "      <td>/workspaces/instrument-detection/data/openmic-...</td>\n",
       "      <td>155311_453120</td>\n",
       "    </tr>\n",
       "  </tbody>\n",
       "</table>\n",
       "<p>20000 rows × 2 columns</p>\n",
       "</div>"
      ],
      "text/plain": [
       "                                               file_path     sample_key\n",
       "0      /workspaces/instrument-detection/data/openmic-...    000046_3840\n",
       "1      /workspaces/instrument-detection/data/openmic-...  000135_483840\n",
       "2      /workspaces/instrument-detection/data/openmic-...  000139_119040\n",
       "3      /workspaces/instrument-detection/data/openmic-...  000141_153600\n",
       "4      /workspaces/instrument-detection/data/openmic-...   000144_30720\n",
       "...                                                  ...            ...\n",
       "19995  /workspaces/instrument-detection/data/openmic-...  155294_184320\n",
       "19996  /workspaces/instrument-detection/data/openmic-...   155295_76800\n",
       "19997  /workspaces/instrument-detection/data/openmic-...  155307_211200\n",
       "19998  /workspaces/instrument-detection/data/openmic-...  155310_372480\n",
       "19999  /workspaces/instrument-detection/data/openmic-...  155311_453120\n",
       "\n",
       "[20000 rows x 2 columns]"
      ]
     },
     "execution_count": 7,
     "metadata": {},
     "output_type": "execute_result"
    }
   ],
   "source": [
    "import librosa as lr\n",
    "import pandas as pd\n",
    "\n",
    "file_paths = lr.util.find_files(DATA_ROOT + \"audio\", ext=\"ogg\")\n",
    "index = pd.DataFrame({\"file_path\": file_paths, \"sample_key\": sample_key})\n",
    "index"
   ]
  },
  {
   "cell_type": "code",
   "execution_count": 8,
   "metadata": {},
   "outputs": [
    {
     "data": {
      "text/plain": [
       "0    /workspaces/instrument-detection/data/openmic-...\n",
       "1    /workspaces/instrument-detection/data/openmic-...\n",
       "2    /workspaces/instrument-detection/data/openmic-...\n",
       "3    /workspaces/instrument-detection/data/openmic-...\n",
       "4    /workspaces/instrument-detection/data/openmic-...\n",
       "Name: file_path, dtype: object"
      ]
     },
     "execution_count": 8,
     "metadata": {},
     "output_type": "execute_result"
    }
   ],
   "source": [
    "index['file_path'].head()"
   ]
  },
  {
   "cell_type": "markdown",
   "metadata": {},
   "source": [
    "Next step is to preprocess all files and extract all features. For efficiancy, we used Spotify's [Pedalboard](https://github.com/spotify/pedalboard) for loading audio and Librosas Feature package for feature extraction. Below is what packages we used:\n",
    "\n",
    "* ZCR: [librosa.feature.zero_crossing_rate](https://librosa.org/doc/main/generated/librosa.feature.zero_crossing_rate.html)\n",
    "* SC: [librosa.feature.spectral_centroid](https://librosa.org/doc/main/generated/librosa.feature.spectral_centroid.html)\n",
    "* SB: [librosa.feature.spectral_bandwidth](https://librosa.org/doc/main/generated/librosa.feature.spectral_bandwidth.html)\n",
    "* SR: [librosa.feature.spectral_rolloff](https://librosa.org/doc/main/generated/librosa.feature.spectral_rolloff.html)"
   ]
  },
  {
   "cell_type": "markdown",
   "metadata": {},
   "source": [
    "The article also extracts the mean of the first 13 MFCC features with Librosa:\n",
    "\n",
    "> We extracted the first 13 MFCC features using Librosa/Essentia. For each audio clip, we obtained 259 × 13 matrix features. **We took the mean of all the columns to get the condensed feature** providing us with 1 × 13 feature vector, along with five other features as mentioned above. We labeled each vector with the instrument class using scikit- learn’s ‘labelencoder’ function."
   ]
  },
  {
   "cell_type": "code",
   "execution_count": 9,
   "metadata": {},
   "outputs": [],
   "source": [
    "from turtle import ycor\n",
    "import pedalboard as pb\n",
    "import librosa as lr\n",
    "\n",
    "\n",
    "def preprocess(index):\n",
    "    \"\"\"\n",
    "    Preprocess audio and extract features according to PMICSF\n",
    "    Input: an audiofile\n",
    "    Returns: a dictionary with zcrs, scs, mfccs\n",
    "    \"\"\"\n",
    "    features = {}\n",
    "    with pb.io.AudioFile(index[0]) as f:\n",
    "        # TODO so some files have varying SR, which could be problematic\n",
    "        #assert f.samplerate == 44100, f\"Sample rate is not 44.1khz for {file}!\"\n",
    "        # TODO count _one_ spectogram and then use as input to all features\n",
    "        y = f.read(f.frames)\n",
    "        y = y.mean(axis=0)  # mono\n",
    "        # To speed up calculation, calculate one spectogram\n",
    "        # TODO is this right, and does the standard values as defined above really hold?\n",
    "        S = np.abs(librosa.stft(y))**2\n",
    "        zcrs = librosa.feature.zero_crossing_rate(y=y)\n",
    "        features[\"sample_key\"] = index[1]\n",
    "        features[\"zcr_mean\"] = zcrs.mean()\n",
    "        features[\"zcr_std\"] = zcrs.std()\n",
    "        scs = librosa.feature.spectral_centroid(S=S)\n",
    "        features[\"sc_mean\"] = scs.mean()\n",
    "        features[\"sc_std\"] = scs.std()\n",
    "        sbs = librosa.feature.spectral_bandwidth(S=S)\n",
    "        features[\"sb_mean\"] = sbs.mean()\n",
    "        features[\"sb_std\"] = sbs.std()\n",
    "        srs = librosa.feature.spectral_rolloff(S=S)\n",
    "        features[\"sr_mean\"] = sbs.mean()\n",
    "        features[\"sr_std\"] = sbs.std()\n",
    "        mfccs = librosa.feature.mfcc(S=S, n_mfcc=13)\n",
    "        for i, mfcc in enumerate(mfccs):\n",
    "            features['mfcc' + str(i+1) + '_mean'] = mfcc.mean()\n",
    "            features['mfcc' + str(i+1) + 'std'] = mfcc.std()\n",
    "\n",
    "    return features\n",
    "\n"
   ]
  },
  {
   "cell_type": "markdown",
   "metadata": {},
   "source": [
    "The audio files were preprocessed in parallell, using Python's [multiprocess](https://docs.python.org/3/library/multiprocessing.html) package.\n",
    "\n",
    "> **NOTE:** if using the enclosed `.devcontainer`, make sure to adjust the RAM and available cores in your Docker settings. Not doing so will render the kernel to crash! We used 4gb ram and 6 cores on a MacBook Air M1, leading to a calculation time of roughly 10 minutes. "
   ]
  },
  {
   "cell_type": "code",
   "execution_count": 10,
   "metadata": {},
   "outputs": [],
   "source": [
    "from tqdm import tqdm\n",
    "import numpy as np\n",
    "\n",
    "from multiprocessing import Pool\n",
    "\n",
    "if not os.path.exists('features.csv'):\n",
    "    with Pool() as p:\n",
    "        # index.values.tolist() returns a list with [file_path, sample_key]\n",
    "        ys = list(tqdm(p.imap(preprocess, index.values.tolist()), total=len(index)))\n",
    "        ys = pd.DataFrame(ys)\n",
    "        ys = ys.set_index(\"sample_key\")\n",
    "else:\n",
    "    ys = pd.read_csv('features.csv', index_col=\"sample_key\")\n",
    "    #ys.drop(columns=\"Unnamed: 0\")\n",
    "    \n"
   ]
  },
  {
   "cell_type": "markdown",
   "metadata": {},
   "source": [
    "I think we want to store the features in a csv file"
   ]
  },
  {
   "cell_type": "code",
   "execution_count": 11,
   "metadata": {},
   "outputs": [
    {
     "name": "stdout",
     "output_type": "stream",
     "text": [
      "Features already calculated and stored in features.csv\n"
     ]
    }
   ],
   "source": [
    "if not os.path.exists('features.csv'):\n",
    "    pd.DataFrame(ys).to_csv('features.csv')\n",
    "else:\n",
    "    print(\"Features already calculated and stored in features.csv\")"
   ]
  },
  {
   "cell_type": "markdown",
   "metadata": {},
   "source": [
    "\n",
    "# Labeling\n",
    "> **NOTERING**: Se även [test.ipynb](/src/test.ipynb)\n",
    "\n",
    "From PMICSF part C, *Classifier Training*\n",
    "\n",
    "> We labeled each vector with the instrument class using scikitlearn’s ‘labelencoder’ function\n",
    "\n",
    "> **Question**: not sure how they use [LabelEncoder](https://scikit-learn.org/stable/modules/generated/sklearn.preprocessing.LabelEncoder.html).\n",
    "\n",
    "The team behind OPENMIC has made a good split of the data, and most of the following code is from their [tutorial on GitHub](https://github.com/cosmir/openmic-2018/blob/master/examples/modeling-baseline.ipynb)."
   ]
  },
  {
   "cell_type": "code",
   "execution_count": 12,
   "metadata": {},
   "outputs": [
    {
     "name": "stderr",
     "output_type": "stream",
     "text": [
      "/tmp/ipykernel_9662/2913080075.py:4: FutureWarning: The squeeze argument has been deprecated and will be removed in a future version. Append .squeeze(\"columns\") to the call to squeeze.\n",
      "\n",
      "\n",
      "  split_train = pd.read_csv(\n",
      "/tmp/ipykernel_9662/2913080075.py:7: FutureWarning: The squeeze argument has been deprecated and will be removed in a future version. Append .squeeze(\"columns\") to the call to squeeze.\n",
      "\n",
      "\n",
      "  split_test = pd.read_csv(\n"
     ]
    },
    {
     "data": {
      "text/plain": [
       "0      000178_3840\n",
       "1     000308_61440\n",
       "2    000312_184320\n",
       "3    000319_145920\n",
       "4    000321_218880\n",
       "Name: 0, dtype: object"
      ]
     },
     "execution_count": 12,
     "metadata": {},
     "output_type": "execute_result"
    }
   ],
   "source": [
    "# Let's split the data into the training and test set\n",
    "# We use squeeze=True here to return a single array for each, rather than a full DataFrame\n",
    "\n",
    "split_train = pd.read_csv(\n",
    "    os.path.join(DATA_ROOT, \"partitions/split01_train.csv\"), header=None, squeeze=True\n",
    ")\n",
    "split_test = pd.read_csv(\n",
    "    os.path.join(DATA_ROOT, \"partitions/split01_test.csv\"), header=None, squeeze=True\n",
    ")\n",
    "\n",
    "split_test.head()"
   ]
  },
  {
   "cell_type": "code",
   "execution_count": 13,
   "metadata": {},
   "outputs": [
    {
     "name": "stdout",
     "output_type": "stream",
     "text": [
      "# Train: 14915,  # Test: 5085\n"
     ]
    }
   ],
   "source": [
    "# How many train and test examples do we have?  About 75%/25%\n",
    "print(\"# Train: {},  # Test: {}\".format(len(split_train), len(split_test)))"
   ]
  },
  {
   "cell_type": "code",
   "execution_count": 14,
   "metadata": {},
   "outputs": [],
   "source": [
    "# convert df to set\n",
    "train_set = set(split_train)\n",
    "test_set = set(split_test)"
   ]
  },
  {
   "cell_type": "code",
   "execution_count": 15,
   "metadata": {},
   "outputs": [],
   "source": [
    "# These loops go through all sample keys, and save their row numbers\n",
    "# to either idx_train or idx_test\n",
    "#\n",
    "# This will be useful in the next step for slicing the array data\n",
    "idx_train, idx_test = [], []\n",
    "\n",
    "for idx, n in enumerate(sample_key):\n",
    "    if n in train_set:\n",
    "        idx_train.append(idx)\n",
    "    elif n in test_set:\n",
    "        idx_test.append(idx)\n",
    "    else:\n",
    "        # This should never happen, but better safe than sorry.\n",
    "        raise RuntimeError(\"Unknown sample key={}! Abort!\".format(sample_key[n]))\n",
    "\n",
    "# Finally, cast the idx_* arrays to numpy structures\n",
    "idx_train = np.asarray(idx_train)\n",
    "idx_test = np.asarray(idx_test)"
   ]
  },
  {
   "cell_type": "markdown",
   "metadata": {},
   "source": [
    "From OPENMIC tutorial:\n",
    "\n",
    "> For convenience, we provide a simple JSON object that maps class indices to names."
   ]
  },
  {
   "cell_type": "code",
   "execution_count": 16,
   "metadata": {},
   "outputs": [
    {
     "data": {
      "text/plain": [
       "{'accordion': 0,\n",
       " 'banjo': 1,\n",
       " 'bass': 2,\n",
       " 'cello': 3,\n",
       " 'clarinet': 4,\n",
       " 'cymbals': 5,\n",
       " 'drums': 6,\n",
       " 'flute': 7,\n",
       " 'guitar': 8,\n",
       " 'mallet_percussion': 9,\n",
       " 'mandolin': 10,\n",
       " 'organ': 11,\n",
       " 'piano': 12,\n",
       " 'saxophone': 13,\n",
       " 'synthesizer': 14,\n",
       " 'trombone': 15,\n",
       " 'trumpet': 16,\n",
       " 'ukulele': 17,\n",
       " 'violin': 18,\n",
       " 'voice': 19}"
      ]
     },
     "execution_count": 16,
     "metadata": {},
     "output_type": "execute_result"
    }
   ],
   "source": [
    "import json\n",
    "\n",
    "with open(os.path.join(DATA_ROOT, 'class-map.json'), 'r') as f:\n",
    "    class_map = json.load(f)\n",
    "class_map"
   ]
  },
  {
   "cell_type": "code",
   "execution_count": 17,
   "metadata": {},
   "outputs": [
    {
     "data": {
      "text/plain": [
       "numpy.ndarray"
      ]
     },
     "execution_count": 17,
     "metadata": {},
     "output_type": "execute_result"
    }
   ],
   "source": [
    "data_train = Y_mask[idx_train]\n",
    "data_test = Y_mask[idx_train]\n",
    "sample_key_train = sample_key[idx_train]  # numpy.ndarray\n",
    "sample_key_test = sample_key[idx_test]\n",
    "\n",
    "type(sample_key_train)"
   ]
  },
  {
   "cell_type": "code",
   "execution_count": 18,
   "metadata": {},
   "outputs": [],
   "source": [
    "# Finally, we use the split indices to partition the features, labels, and masks\n",
    "X_train = X[idx_train]\n",
    "X_test = X[idx_test]\n",
    "\n",
    "Y_true_train = Y_true[idx_train]\n",
    "Y_true_test = Y_true[idx_test]\n",
    "\n",
    "Y_mask_train = Y_mask[idx_train]\n",
    "Y_mask_test = Y_mask[idx_test]"
   ]
  },
  {
   "cell_type": "code",
   "execution_count": 22,
   "metadata": {},
   "outputs": [
    {
     "name": "stdout",
     "output_type": "stream",
     "text": [
      "<class 'numpy.ndarray'>\n"
     ]
    },
    {
     "data": {
      "text/plain": [
       "array([    nan,     nan,     nan,     nan,     nan, 0.15055,     nan,\n",
       "           nan,     nan,     nan,     nan,     nan,     nan,     nan,\n",
       "           nan,     nan,     nan,     nan,     nan,     nan])"
      ]
     },
     "execution_count": 22,
     "metadata": {},
     "output_type": "execute_result"
    }
   ],
   "source": [
    "# sandbox\n",
    "#print(Y_true[40])\n",
    "#print(Y_mask[40])\n",
    "#tmp_dict = dict(zip(class_map, Y_true[40] * Y_mask[40]))\n",
    "\n",
    "dict(zip(class_map, Y_mask[40] * Y_true[40]))\n",
    "\n",
    "print(type(Y_mask))\n",
    "bool_to_NaN = lambda x: np.NaN if x == False else x\n",
    "NaN_mask = map(bool_to_NaN, Y_mask[40])\n",
    "list(NaN_mask)*Y_true[40]"
   ]
  },
  {
   "cell_type": "code",
   "execution_count": 23,
   "metadata": {},
   "outputs": [],
   "source": [
    "def generate_dataframe_with_labels(indices, class_map, Y_mask, Y_true):\n",
    "    \"\"\"\n",
    "    A method for creating a pd.df with each label in Y_mask and instrument in class_map\n",
    "    Requires sorting of indices first (idx_train and idx_test) as explained in OPENMIC2018 tutorial\n",
    "    \"\"\"\n",
    "    data = {}\n",
    "    for i in indices:\n",
    "        # NOTE: after spending some time on reading the openmic-2018 tutorial, I believe this is a good way to remove\n",
    "        # labels. If the label is NaN, there is no observations for it and thus cannot be used for training.\n",
    "        bool_to_NaN = lambda x: np.NaN if x == False else x\n",
    "        NaN_mask = list(map(bool_to_NaN, Y_mask[i]))\n",
    "        tmp_dict = dict(zip(class_map, Y_true[i] * NaN_mask))\n",
    "        data[sample_key[i]] = tmp_dict\n",
    "\n",
    "    return pd.DataFrame.from_dict(data, orient=\"index\")"
   ]
  },
  {
   "cell_type": "markdown",
   "metadata": {},
   "source": [
    "Using the util function above, we create a big table with all the labels, as predicted by the OPENMIC team."
   ]
  },
  {
   "cell_type": "code",
   "execution_count": 24,
   "metadata": {},
   "outputs": [
    {
     "data": {
      "text/html": [
       "<div>\n",
       "<style scoped>\n",
       "    .dataframe tbody tr th:only-of-type {\n",
       "        vertical-align: middle;\n",
       "    }\n",
       "\n",
       "    .dataframe tbody tr th {\n",
       "        vertical-align: top;\n",
       "    }\n",
       "\n",
       "    .dataframe thead th {\n",
       "        text-align: right;\n",
       "    }\n",
       "</style>\n",
       "<table border=\"1\" class=\"dataframe\">\n",
       "  <thead>\n",
       "    <tr style=\"text-align: right;\">\n",
       "      <th></th>\n",
       "      <th>accordion</th>\n",
       "      <th>banjo</th>\n",
       "      <th>bass</th>\n",
       "      <th>cello</th>\n",
       "      <th>clarinet</th>\n",
       "      <th>cymbals</th>\n",
       "      <th>drums</th>\n",
       "      <th>flute</th>\n",
       "      <th>guitar</th>\n",
       "      <th>mallet_percussion</th>\n",
       "      <th>mandolin</th>\n",
       "      <th>organ</th>\n",
       "      <th>piano</th>\n",
       "      <th>saxophone</th>\n",
       "      <th>synthesizer</th>\n",
       "      <th>trombone</th>\n",
       "      <th>trumpet</th>\n",
       "      <th>ukulele</th>\n",
       "      <th>violin</th>\n",
       "      <th>voice</th>\n",
       "    </tr>\n",
       "  </thead>\n",
       "  <tbody>\n",
       "    <tr>\n",
       "      <th>000046_3840</th>\n",
       "      <td>NaN</td>\n",
       "      <td>NaN</td>\n",
       "      <td>NaN</td>\n",
       "      <td>NaN</td>\n",
       "      <td>0.17105</td>\n",
       "      <td>NaN</td>\n",
       "      <td>NaN</td>\n",
       "      <td>0.0</td>\n",
       "      <td>NaN</td>\n",
       "      <td>NaN</td>\n",
       "      <td>NaN</td>\n",
       "      <td>NaN</td>\n",
       "      <td>NaN</td>\n",
       "      <td>NaN</td>\n",
       "      <td>NaN</td>\n",
       "      <td>NaN</td>\n",
       "      <td>0.0</td>\n",
       "      <td>NaN</td>\n",
       "      <td>NaN</td>\n",
       "      <td>NaN</td>\n",
       "    </tr>\n",
       "    <tr>\n",
       "      <th>000135_483840</th>\n",
       "      <td>NaN</td>\n",
       "      <td>NaN</td>\n",
       "      <td>NaN</td>\n",
       "      <td>NaN</td>\n",
       "      <td>NaN</td>\n",
       "      <td>NaN</td>\n",
       "      <td>NaN</td>\n",
       "      <td>NaN</td>\n",
       "      <td>NaN</td>\n",
       "      <td>NaN</td>\n",
       "      <td>NaN</td>\n",
       "      <td>NaN</td>\n",
       "      <td>NaN</td>\n",
       "      <td>0.14705</td>\n",
       "      <td>NaN</td>\n",
       "      <td>NaN</td>\n",
       "      <td>0.0</td>\n",
       "      <td>NaN</td>\n",
       "      <td>NaN</td>\n",
       "      <td>1.0</td>\n",
       "    </tr>\n",
       "    <tr>\n",
       "      <th>000139_119040</th>\n",
       "      <td>0.84485</td>\n",
       "      <td>NaN</td>\n",
       "      <td>NaN</td>\n",
       "      <td>NaN</td>\n",
       "      <td>NaN</td>\n",
       "      <td>NaN</td>\n",
       "      <td>NaN</td>\n",
       "      <td>NaN</td>\n",
       "      <td>NaN</td>\n",
       "      <td>NaN</td>\n",
       "      <td>NaN</td>\n",
       "      <td>NaN</td>\n",
       "      <td>NaN</td>\n",
       "      <td>NaN</td>\n",
       "      <td>NaN</td>\n",
       "      <td>NaN</td>\n",
       "      <td>NaN</td>\n",
       "      <td>NaN</td>\n",
       "      <td>NaN</td>\n",
       "      <td>NaN</td>\n",
       "    </tr>\n",
       "    <tr>\n",
       "      <th>000141_153600</th>\n",
       "      <td>0.83820</td>\n",
       "      <td>NaN</td>\n",
       "      <td>NaN</td>\n",
       "      <td>NaN</td>\n",
       "      <td>0.17840</td>\n",
       "      <td>NaN</td>\n",
       "      <td>NaN</td>\n",
       "      <td>NaN</td>\n",
       "      <td>NaN</td>\n",
       "      <td>NaN</td>\n",
       "      <td>NaN</td>\n",
       "      <td>NaN</td>\n",
       "      <td>NaN</td>\n",
       "      <td>NaN</td>\n",
       "      <td>NaN</td>\n",
       "      <td>NaN</td>\n",
       "      <td>NaN</td>\n",
       "      <td>NaN</td>\n",
       "      <td>NaN</td>\n",
       "      <td>NaN</td>\n",
       "    </tr>\n",
       "    <tr>\n",
       "      <th>000144_30720</th>\n",
       "      <td>0.16215</td>\n",
       "      <td>NaN</td>\n",
       "      <td>NaN</td>\n",
       "      <td>NaN</td>\n",
       "      <td>NaN</td>\n",
       "      <td>NaN</td>\n",
       "      <td>NaN</td>\n",
       "      <td>NaN</td>\n",
       "      <td>NaN</td>\n",
       "      <td>NaN</td>\n",
       "      <td>NaN</td>\n",
       "      <td>NaN</td>\n",
       "      <td>NaN</td>\n",
       "      <td>NaN</td>\n",
       "      <td>NaN</td>\n",
       "      <td>NaN</td>\n",
       "      <td>NaN</td>\n",
       "      <td>0.0</td>\n",
       "      <td>NaN</td>\n",
       "      <td>NaN</td>\n",
       "    </tr>\n",
       "  </tbody>\n",
       "</table>\n",
       "</div>"
      ],
      "text/plain": [
       "               accordion  banjo  bass  cello  clarinet  cymbals  drums  flute  \\\n",
       "000046_3840          NaN    NaN   NaN    NaN   0.17105      NaN    NaN    0.0   \n",
       "000135_483840        NaN    NaN   NaN    NaN       NaN      NaN    NaN    NaN   \n",
       "000139_119040    0.84485    NaN   NaN    NaN       NaN      NaN    NaN    NaN   \n",
       "000141_153600    0.83820    NaN   NaN    NaN   0.17840      NaN    NaN    NaN   \n",
       "000144_30720     0.16215    NaN   NaN    NaN       NaN      NaN    NaN    NaN   \n",
       "\n",
       "               guitar  mallet_percussion  mandolin  organ  piano  saxophone  \\\n",
       "000046_3840       NaN                NaN       NaN    NaN    NaN        NaN   \n",
       "000135_483840     NaN                NaN       NaN    NaN    NaN    0.14705   \n",
       "000139_119040     NaN                NaN       NaN    NaN    NaN        NaN   \n",
       "000141_153600     NaN                NaN       NaN    NaN    NaN        NaN   \n",
       "000144_30720      NaN                NaN       NaN    NaN    NaN        NaN   \n",
       "\n",
       "               synthesizer  trombone  trumpet  ukulele  violin  voice  \n",
       "000046_3840            NaN       NaN      0.0      NaN     NaN    NaN  \n",
       "000135_483840          NaN       NaN      0.0      NaN     NaN    1.0  \n",
       "000139_119040          NaN       NaN      NaN      NaN     NaN    NaN  \n",
       "000141_153600          NaN       NaN      NaN      NaN     NaN    NaN  \n",
       "000144_30720           NaN       NaN      NaN      0.0     NaN    NaN  "
      ]
     },
     "execution_count": 24,
     "metadata": {},
     "output_type": "execute_result"
    }
   ],
   "source": [
    "# set up dataframes with sample key and correct label\n",
    "df_train = generate_dataframe_with_labels(idx_train, class_map, Y_mask, Y_true)\n",
    "df_test = generate_dataframe_with_labels(idx_test, class_map, Y_mask, Y_true)\n",
    "\n",
    "df_train.head()"
   ]
  },
  {
   "cell_type": "markdown",
   "metadata": {},
   "source": [
    "Should we perhaps *merge* the tables together or is this OK?"
   ]
  },
  {
   "cell_type": "code",
   "execution_count": 25,
   "metadata": {},
   "outputs": [
    {
     "data": {
      "text/html": [
       "<div>\n",
       "<style scoped>\n",
       "    .dataframe tbody tr th:only-of-type {\n",
       "        vertical-align: middle;\n",
       "    }\n",
       "\n",
       "    .dataframe tbody tr th {\n",
       "        vertical-align: top;\n",
       "    }\n",
       "\n",
       "    .dataframe thead th {\n",
       "        text-align: right;\n",
       "    }\n",
       "</style>\n",
       "<table border=\"1\" class=\"dataframe\">\n",
       "  <thead>\n",
       "    <tr style=\"text-align: right;\">\n",
       "      <th></th>\n",
       "      <th>zcr_mean</th>\n",
       "      <th>zcr_std</th>\n",
       "      <th>sc_mean</th>\n",
       "      <th>sc_std</th>\n",
       "      <th>sb_mean</th>\n",
       "      <th>sb_std</th>\n",
       "      <th>sr_mean</th>\n",
       "      <th>sr_std</th>\n",
       "      <th>mfcc1_mean</th>\n",
       "      <th>mfcc1std</th>\n",
       "      <th>...</th>\n",
       "      <th>mfcc9_mean</th>\n",
       "      <th>mfcc9std</th>\n",
       "      <th>mfcc10_mean</th>\n",
       "      <th>mfcc10std</th>\n",
       "      <th>mfcc11_mean</th>\n",
       "      <th>mfcc11std</th>\n",
       "      <th>mfcc12_mean</th>\n",
       "      <th>mfcc12std</th>\n",
       "      <th>mfcc13_mean</th>\n",
       "      <th>mfcc13std</th>\n",
       "    </tr>\n",
       "    <tr>\n",
       "      <th>sample_key</th>\n",
       "      <th></th>\n",
       "      <th></th>\n",
       "      <th></th>\n",
       "      <th></th>\n",
       "      <th></th>\n",
       "      <th></th>\n",
       "      <th></th>\n",
       "      <th></th>\n",
       "      <th></th>\n",
       "      <th></th>\n",
       "      <th></th>\n",
       "      <th></th>\n",
       "      <th></th>\n",
       "      <th></th>\n",
       "      <th></th>\n",
       "      <th></th>\n",
       "      <th></th>\n",
       "      <th></th>\n",
       "      <th></th>\n",
       "      <th></th>\n",
       "      <th></th>\n",
       "    </tr>\n",
       "  </thead>\n",
       "  <tbody>\n",
       "    <tr>\n",
       "      <th>000046_3840</th>\n",
       "      <td>0.036367</td>\n",
       "      <td>0.021923</td>\n",
       "      <td>296.517136</td>\n",
       "      <td>133.109808</td>\n",
       "      <td>288.159666</td>\n",
       "      <td>267.139540</td>\n",
       "      <td>288.159666</td>\n",
       "      <td>267.139540</td>\n",
       "      <td>147.18806</td>\n",
       "      <td>178.52283</td>\n",
       "      <td>...</td>\n",
       "      <td>166.07562</td>\n",
       "      <td>216.15845</td>\n",
       "      <td>158.76860</td>\n",
       "      <td>209.78517</td>\n",
       "      <td>151.586730</td>\n",
       "      <td>203.43971</td>\n",
       "      <td>144.20024</td>\n",
       "      <td>197.13676</td>\n",
       "      <td>136.57768</td>\n",
       "      <td>190.80775</td>\n",
       "    </tr>\n",
       "    <tr>\n",
       "      <th>000135_483840</th>\n",
       "      <td>0.052411</td>\n",
       "      <td>0.013491</td>\n",
       "      <td>478.192757</td>\n",
       "      <td>141.199973</td>\n",
       "      <td>409.844515</td>\n",
       "      <td>135.532246</td>\n",
       "      <td>409.844515</td>\n",
       "      <td>135.532246</td>\n",
       "      <td>1282.76940</td>\n",
       "      <td>310.55603</td>\n",
       "      <td>...</td>\n",
       "      <td>765.03280</td>\n",
       "      <td>495.68510</td>\n",
       "      <td>590.32880</td>\n",
       "      <td>558.75824</td>\n",
       "      <td>425.313660</td>\n",
       "      <td>616.81950</td>\n",
       "      <td>274.80215</td>\n",
       "      <td>663.55350</td>\n",
       "      <td>142.18160</td>\n",
       "      <td>694.35410</td>\n",
       "    </tr>\n",
       "    <tr>\n",
       "      <th>000139_119040</th>\n",
       "      <td>0.081234</td>\n",
       "      <td>0.014925</td>\n",
       "      <td>604.505859</td>\n",
       "      <td>189.731508</td>\n",
       "      <td>719.222449</td>\n",
       "      <td>139.070343</td>\n",
       "      <td>719.222449</td>\n",
       "      <td>139.070343</td>\n",
       "      <td>292.69028</td>\n",
       "      <td>238.36676</td>\n",
       "      <td>...</td>\n",
       "      <td>214.49968</td>\n",
       "      <td>316.38672</td>\n",
       "      <td>198.65715</td>\n",
       "      <td>314.67343</td>\n",
       "      <td>186.793670</td>\n",
       "      <td>313.87470</td>\n",
       "      <td>177.73270</td>\n",
       "      <td>313.87650</td>\n",
       "      <td>170.00764</td>\n",
       "      <td>313.99084</td>\n",
       "    </tr>\n",
       "    <tr>\n",
       "      <th>000141_153600</th>\n",
       "      <td>0.053718</td>\n",
       "      <td>0.013248</td>\n",
       "      <td>462.825122</td>\n",
       "      <td>153.244140</td>\n",
       "      <td>391.783679</td>\n",
       "      <td>84.894649</td>\n",
       "      <td>391.783679</td>\n",
       "      <td>84.894649</td>\n",
       "      <td>188.99663</td>\n",
       "      <td>116.76610</td>\n",
       "      <td>...</td>\n",
       "      <td>146.75562</td>\n",
       "      <td>140.59268</td>\n",
       "      <td>130.84398</td>\n",
       "      <td>137.76826</td>\n",
       "      <td>116.143745</td>\n",
       "      <td>135.27222</td>\n",
       "      <td>102.52170</td>\n",
       "      <td>133.01720</td>\n",
       "      <td>89.94732</td>\n",
       "      <td>130.88220</td>\n",
       "    </tr>\n",
       "    <tr>\n",
       "      <th>000144_30720</th>\n",
       "      <td>0.082449</td>\n",
       "      <td>0.034076</td>\n",
       "      <td>601.706717</td>\n",
       "      <td>329.074617</td>\n",
       "      <td>766.763811</td>\n",
       "      <td>375.408621</td>\n",
       "      <td>766.763811</td>\n",
       "      <td>375.408621</td>\n",
       "      <td>196.93245</td>\n",
       "      <td>202.77621</td>\n",
       "      <td>...</td>\n",
       "      <td>172.74915</td>\n",
       "      <td>268.45245</td>\n",
       "      <td>166.11035</td>\n",
       "      <td>266.88522</td>\n",
       "      <td>159.133510</td>\n",
       "      <td>265.19022</td>\n",
       "      <td>151.69370</td>\n",
       "      <td>263.76523</td>\n",
       "      <td>143.99810</td>\n",
       "      <td>262.70773</td>\n",
       "    </tr>\n",
       "  </tbody>\n",
       "</table>\n",
       "<p>5 rows × 34 columns</p>\n",
       "</div>"
      ],
      "text/plain": [
       "               zcr_mean   zcr_std     sc_mean      sc_std     sb_mean  \\\n",
       "sample_key                                                              \n",
       "000046_3840    0.036367  0.021923  296.517136  133.109808  288.159666   \n",
       "000135_483840  0.052411  0.013491  478.192757  141.199973  409.844515   \n",
       "000139_119040  0.081234  0.014925  604.505859  189.731508  719.222449   \n",
       "000141_153600  0.053718  0.013248  462.825122  153.244140  391.783679   \n",
       "000144_30720   0.082449  0.034076  601.706717  329.074617  766.763811   \n",
       "\n",
       "                   sb_std     sr_mean      sr_std  mfcc1_mean   mfcc1std  ...  \\\n",
       "sample_key                                                                ...   \n",
       "000046_3840    267.139540  288.159666  267.139540   147.18806  178.52283  ...   \n",
       "000135_483840  135.532246  409.844515  135.532246  1282.76940  310.55603  ...   \n",
       "000139_119040  139.070343  719.222449  139.070343   292.69028  238.36676  ...   \n",
       "000141_153600   84.894649  391.783679   84.894649   188.99663  116.76610  ...   \n",
       "000144_30720   375.408621  766.763811  375.408621   196.93245  202.77621  ...   \n",
       "\n",
       "               mfcc9_mean   mfcc9std  mfcc10_mean  mfcc10std  mfcc11_mean  \\\n",
       "sample_key                                                                  \n",
       "000046_3840     166.07562  216.15845    158.76860  209.78517   151.586730   \n",
       "000135_483840   765.03280  495.68510    590.32880  558.75824   425.313660   \n",
       "000139_119040   214.49968  316.38672    198.65715  314.67343   186.793670   \n",
       "000141_153600   146.75562  140.59268    130.84398  137.76826   116.143745   \n",
       "000144_30720    172.74915  268.45245    166.11035  266.88522   159.133510   \n",
       "\n",
       "               mfcc11std  mfcc12_mean  mfcc12std  mfcc13_mean  mfcc13std  \n",
       "sample_key                                                                \n",
       "000046_3840    203.43971    144.20024  197.13676    136.57768  190.80775  \n",
       "000135_483840  616.81950    274.80215  663.55350    142.18160  694.35410  \n",
       "000139_119040  313.87470    177.73270  313.87650    170.00764  313.99084  \n",
       "000141_153600  135.27222    102.52170  133.01720     89.94732  130.88220  \n",
       "000144_30720   265.19022    151.69370  263.76523    143.99810  262.70773  \n",
       "\n",
       "[5 rows x 34 columns]"
      ]
     },
     "execution_count": 25,
     "metadata": {},
     "output_type": "execute_result"
    }
   ],
   "source": [
    "ys.head()"
   ]
  },
  {
   "cell_type": "code",
   "execution_count": null,
   "metadata": {},
   "outputs": [],
   "source": [
    "df_train = df_train.join(ys)\n",
    "df_train.to_csv(\"train.csv\")\n",
    "df_test = df_test.join(ys)\n",
    "df_test.to_csv(\"test.csv\")\n"
   ]
  },
  {
   "cell_type": "code",
   "execution_count": null,
   "metadata": {},
   "outputs": [
    {
     "data": {
      "text/html": [
       "<div>\n",
       "<style scoped>\n",
       "    .dataframe tbody tr th:only-of-type {\n",
       "        vertical-align: middle;\n",
       "    }\n",
       "\n",
       "    .dataframe tbody tr th {\n",
       "        vertical-align: top;\n",
       "    }\n",
       "\n",
       "    .dataframe thead th {\n",
       "        text-align: right;\n",
       "    }\n",
       "</style>\n",
       "<table border=\"1\" class=\"dataframe\">\n",
       "  <thead>\n",
       "    <tr style=\"text-align: right;\">\n",
       "      <th></th>\n",
       "      <th>accordion</th>\n",
       "      <th>banjo</th>\n",
       "      <th>bass</th>\n",
       "      <th>cello</th>\n",
       "      <th>clarinet</th>\n",
       "      <th>cymbals</th>\n",
       "      <th>drums</th>\n",
       "      <th>flute</th>\n",
       "      <th>guitar</th>\n",
       "      <th>mallet_percussion</th>\n",
       "      <th>...</th>\n",
       "      <th>mfcc9_mean</th>\n",
       "      <th>mfcc9std</th>\n",
       "      <th>mfcc10_mean</th>\n",
       "      <th>mfcc10std</th>\n",
       "      <th>mfcc11_mean</th>\n",
       "      <th>mfcc11std</th>\n",
       "      <th>mfcc12_mean</th>\n",
       "      <th>mfcc12std</th>\n",
       "      <th>mfcc13_mean</th>\n",
       "      <th>mfcc13std</th>\n",
       "    </tr>\n",
       "  </thead>\n",
       "  <tbody>\n",
       "    <tr>\n",
       "      <th>000046_3840</th>\n",
       "      <td>0.00000</td>\n",
       "      <td>0.0</td>\n",
       "      <td>0.0</td>\n",
       "      <td>0.0</td>\n",
       "      <td>0.17105</td>\n",
       "      <td>0.0</td>\n",
       "      <td>0.0</td>\n",
       "      <td>0.0</td>\n",
       "      <td>0.0</td>\n",
       "      <td>0.0</td>\n",
       "      <td>...</td>\n",
       "      <td>166.07562</td>\n",
       "      <td>216.15845</td>\n",
       "      <td>158.76860</td>\n",
       "      <td>209.78517</td>\n",
       "      <td>151.586730</td>\n",
       "      <td>203.43971</td>\n",
       "      <td>144.20024</td>\n",
       "      <td>197.13676</td>\n",
       "      <td>136.57768</td>\n",
       "      <td>190.80775</td>\n",
       "    </tr>\n",
       "    <tr>\n",
       "      <th>000135_483840</th>\n",
       "      <td>0.00000</td>\n",
       "      <td>0.0</td>\n",
       "      <td>0.0</td>\n",
       "      <td>0.0</td>\n",
       "      <td>0.00000</td>\n",
       "      <td>0.0</td>\n",
       "      <td>0.0</td>\n",
       "      <td>0.0</td>\n",
       "      <td>0.0</td>\n",
       "      <td>0.0</td>\n",
       "      <td>...</td>\n",
       "      <td>765.03280</td>\n",
       "      <td>495.68510</td>\n",
       "      <td>590.32880</td>\n",
       "      <td>558.75824</td>\n",
       "      <td>425.313660</td>\n",
       "      <td>616.81950</td>\n",
       "      <td>274.80215</td>\n",
       "      <td>663.55350</td>\n",
       "      <td>142.18160</td>\n",
       "      <td>694.35410</td>\n",
       "    </tr>\n",
       "    <tr>\n",
       "      <th>000139_119040</th>\n",
       "      <td>0.84485</td>\n",
       "      <td>0.0</td>\n",
       "      <td>0.0</td>\n",
       "      <td>0.0</td>\n",
       "      <td>0.00000</td>\n",
       "      <td>0.0</td>\n",
       "      <td>0.0</td>\n",
       "      <td>0.0</td>\n",
       "      <td>0.0</td>\n",
       "      <td>0.0</td>\n",
       "      <td>...</td>\n",
       "      <td>214.49968</td>\n",
       "      <td>316.38672</td>\n",
       "      <td>198.65715</td>\n",
       "      <td>314.67343</td>\n",
       "      <td>186.793670</td>\n",
       "      <td>313.87470</td>\n",
       "      <td>177.73270</td>\n",
       "      <td>313.87650</td>\n",
       "      <td>170.00764</td>\n",
       "      <td>313.99084</td>\n",
       "    </tr>\n",
       "    <tr>\n",
       "      <th>000141_153600</th>\n",
       "      <td>0.83820</td>\n",
       "      <td>0.0</td>\n",
       "      <td>0.0</td>\n",
       "      <td>0.0</td>\n",
       "      <td>0.17840</td>\n",
       "      <td>0.0</td>\n",
       "      <td>0.0</td>\n",
       "      <td>0.0</td>\n",
       "      <td>0.0</td>\n",
       "      <td>0.0</td>\n",
       "      <td>...</td>\n",
       "      <td>146.75562</td>\n",
       "      <td>140.59268</td>\n",
       "      <td>130.84398</td>\n",
       "      <td>137.76826</td>\n",
       "      <td>116.143745</td>\n",
       "      <td>135.27222</td>\n",
       "      <td>102.52170</td>\n",
       "      <td>133.01720</td>\n",
       "      <td>89.94732</td>\n",
       "      <td>130.88220</td>\n",
       "    </tr>\n",
       "    <tr>\n",
       "      <th>000144_30720</th>\n",
       "      <td>0.16215</td>\n",
       "      <td>0.0</td>\n",
       "      <td>0.0</td>\n",
       "      <td>0.0</td>\n",
       "      <td>0.00000</td>\n",
       "      <td>0.0</td>\n",
       "      <td>0.0</td>\n",
       "      <td>0.0</td>\n",
       "      <td>0.0</td>\n",
       "      <td>0.0</td>\n",
       "      <td>...</td>\n",
       "      <td>172.74915</td>\n",
       "      <td>268.45245</td>\n",
       "      <td>166.11035</td>\n",
       "      <td>266.88522</td>\n",
       "      <td>159.133510</td>\n",
       "      <td>265.19022</td>\n",
       "      <td>151.69370</td>\n",
       "      <td>263.76523</td>\n",
       "      <td>143.99810</td>\n",
       "      <td>262.70773</td>\n",
       "    </tr>\n",
       "  </tbody>\n",
       "</table>\n",
       "<p>5 rows × 55 columns</p>\n",
       "</div>"
      ],
      "text/plain": [
       "               accordion  banjo  bass  cello  clarinet  cymbals  drums  flute  \\\n",
       "000046_3840      0.00000    0.0   0.0    0.0   0.17105      0.0    0.0    0.0   \n",
       "000135_483840    0.00000    0.0   0.0    0.0   0.00000      0.0    0.0    0.0   \n",
       "000139_119040    0.84485    0.0   0.0    0.0   0.00000      0.0    0.0    0.0   \n",
       "000141_153600    0.83820    0.0   0.0    0.0   0.17840      0.0    0.0    0.0   \n",
       "000144_30720     0.16215    0.0   0.0    0.0   0.00000      0.0    0.0    0.0   \n",
       "\n",
       "               guitar  mallet_percussion  ...  mfcc9_mean   mfcc9std  \\\n",
       "000046_3840       0.0                0.0  ...   166.07562  216.15845   \n",
       "000135_483840     0.0                0.0  ...   765.03280  495.68510   \n",
       "000139_119040     0.0                0.0  ...   214.49968  316.38672   \n",
       "000141_153600     0.0                0.0  ...   146.75562  140.59268   \n",
       "000144_30720      0.0                0.0  ...   172.74915  268.45245   \n",
       "\n",
       "               mfcc10_mean  mfcc10std  mfcc11_mean  mfcc11std  mfcc12_mean  \\\n",
       "000046_3840      158.76860  209.78517   151.586730  203.43971    144.20024   \n",
       "000135_483840    590.32880  558.75824   425.313660  616.81950    274.80215   \n",
       "000139_119040    198.65715  314.67343   186.793670  313.87470    177.73270   \n",
       "000141_153600    130.84398  137.76826   116.143745  135.27222    102.52170   \n",
       "000144_30720     166.11035  266.88522   159.133510  265.19022    151.69370   \n",
       "\n",
       "               mfcc12std  mfcc13_mean  mfcc13std  \n",
       "000046_3840    197.13676    136.57768  190.80775  \n",
       "000135_483840  663.55350    142.18160  694.35410  \n",
       "000139_119040  313.87650    170.00764  313.99084  \n",
       "000141_153600  133.01720     89.94732  130.88220  \n",
       "000144_30720   263.76523    143.99810  262.70773  \n",
       "\n",
       "[5 rows x 55 columns]"
      ]
     },
     "execution_count": 239,
     "metadata": {},
     "output_type": "execute_result"
    }
   ],
   "source": [
    "df_train.head()\n"
   ]
  },
  {
   "cell_type": "code",
   "execution_count": null,
   "metadata": {},
   "outputs": [
    {
     "data": {
      "text/plain": [
       "['accordion',\n",
       " 'banjo',\n",
       " 'bass',\n",
       " 'cello',\n",
       " 'clarinet',\n",
       " 'cymbals',\n",
       " 'drums',\n",
       " 'flute',\n",
       " 'guitar',\n",
       " 'mallet_percussion',\n",
       " 'mandolin',\n",
       " 'organ',\n",
       " 'piano',\n",
       " 'saxophone',\n",
       " 'synthesizer',\n",
       " 'trombone',\n",
       " 'trumpet',\n",
       " 'ukulele',\n",
       " 'violin',\n",
       " 'voice']"
      ]
     },
     "execution_count": 240,
     "metadata": {},
     "output_type": "execute_result"
    }
   ],
   "source": [
    "# TODO sk multilearn\n",
    "instruments = list(class_map.keys())\n",
    "instruments"
   ]
  },
  {
   "cell_type": "code",
   "execution_count": null,
   "metadata": {},
   "outputs": [
    {
     "data": {
      "text/plain": [
       "Index(['accordion', 'banjo', 'bass', 'cello', 'clarinet', 'cymbals', 'drums',\n",
       "       'flute', 'guitar', 'mallet_percussion', 'mandolin', 'organ', 'piano',\n",
       "       'saxophone', 'synthesizer', 'trombone', 'trumpet', 'ukulele', 'violin',\n",
       "       'voice', 'Unnamed: 0', 'zcr_mean', 'zcr_std', 'sc_mean', 'sc_std',\n",
       "       'sb_mean', 'sb_std', 'sr_mean', 'sr_std', 'mfcc1_mean', 'mfcc1std',\n",
       "       'mfcc2_mean', 'mfcc2std', 'mfcc3_mean', 'mfcc3std', 'mfcc4_mean',\n",
       "       'mfcc4std', 'mfcc5_mean', 'mfcc5std', 'mfcc6_mean', 'mfcc6std',\n",
       "       'mfcc7_mean', 'mfcc7std', 'mfcc8_mean', 'mfcc8std', 'mfcc9_mean',\n",
       "       'mfcc9std', 'mfcc10_mean', 'mfcc10std', 'mfcc11_mean', 'mfcc11std',\n",
       "       'mfcc12_mean', 'mfcc12std', 'mfcc13_mean', 'mfcc13std'],\n",
       "      dtype='object')"
      ]
     },
     "execution_count": 241,
     "metadata": {},
     "output_type": "execute_result"
    }
   ],
   "source": [
    "df_train.columns"
   ]
  },
  {
   "cell_type": "code",
   "execution_count": null,
   "metadata": {},
   "outputs": [
    {
     "data": {
      "text/plain": [
       "accordion              0.000000\n",
       "banjo                  0.000000\n",
       "bass                   0.000000\n",
       "cello                  0.000000\n",
       "clarinet               0.000000\n",
       "cymbals                0.000000\n",
       "drums                  0.000000\n",
       "flute                  0.000000\n",
       "guitar                 0.000000\n",
       "mallet_percussion      0.000000\n",
       "mandolin               0.000000\n",
       "organ                  0.000000\n",
       "piano                  0.000000\n",
       "saxophone              1.000000\n",
       "synthesizer            0.000000\n",
       "trombone               1.000000\n",
       "trumpet                0.810350\n",
       "ukulele                0.000000\n",
       "violin                 0.000000\n",
       "voice                  0.000000\n",
       "Unnamed: 0           664.000000\n",
       "zcr_mean               0.041517\n",
       "zcr_std                0.017478\n",
       "sc_mean              298.470300\n",
       "sc_std               117.051830\n",
       "sb_mean              398.207726\n",
       "sb_std               214.714994\n",
       "sr_mean              398.207726\n",
       "sr_std               214.714994\n",
       "mfcc1_mean           292.609070\n",
       "mfcc1std             263.161130\n",
       "mfcc2_mean           409.432800\n",
       "mfcc2std             369.960570\n",
       "mfcc3_mean           399.733340\n",
       "mfcc3std             365.697080\n",
       "mfcc4_mean           389.249700\n",
       "mfcc4std             361.626460\n",
       "mfcc5_mean           378.781300\n",
       "mfcc5std             357.563020\n",
       "mfcc6_mean           367.941350\n",
       "mfcc6std             353.228270\n",
       "mfcc7_mean           356.205900\n",
       "mfcc7std             348.407260\n",
       "mfcc8_mean           343.189540\n",
       "mfcc8std             342.987600\n",
       "mfcc9_mean           329.270450\n",
       "mfcc9std             337.184660\n",
       "mfcc10_mean          314.992600\n",
       "mfcc10std            331.321780\n",
       "mfcc11_mean          300.638370\n",
       "mfcc11std            325.703860\n",
       "mfcc12_mean          286.125520\n",
       "mfcc12std            320.376460\n",
       "mfcc13_mean          271.313750\n",
       "mfcc13std            315.282350\n",
       "Name: 006463_157440, dtype: float64"
      ]
     },
     "execution_count": 248,
     "metadata": {},
     "output_type": "execute_result"
    }
   ],
   "source": [
    "df_train.loc[\"006463_157440\"]"
   ]
  },
  {
   "cell_type": "code",
   "execution_count": null,
   "metadata": {},
   "outputs": [
    {
     "data": {
      "image/png": "[encoded data removed]",
      "text/plain": [
       "<Figure size 1000x300 with 4 Axes>"
      ]
     },
     "metadata": {},
     "output_type": "display_data"
    }
   ],
   "source": [
    "fig, axes = plt.subplots(1, 4, figsize=(10, 3))\n",
    "df_train[\"zcr_mean\"].hist(bins=200, alpha = 0.5, legend = True, ax = axes[0])\n",
    "df_train[\"zcr_std\"].hist(bins=200, alpha = 0.5, legend = True, ax = axes[0])\n",
    "\n",
    "df_train[\"sc_mean\"].hist(bins=200, alpha = 0.5, legend = True, ax = axes[1])\n",
    "df_train[\"sc_std\"].hist(bins=200, alpha = 0.5, legend = True, ax = axes[1])\n",
    "\n",
    "df_train[\"sb_mean\"].hist(bins=200, alpha = 0.5, legend = True, ax = axes[2])\n",
    "df_train[\"sb_std\"].hist(bins=200, alpha=0.5, legend = True, ax = axes[2])\n",
    "\n",
    "df_train[\"sr_mean\"].hist(bins=200, alpha = 0.5, legend = True, ax = axes[3])\n",
    "df_train[\"sr_std\"].hist(bins=200, alpha = 0.5, legend = True, ax = axes[3])\n",
    "\n",
    "plt.tight_layout()"
   ]
  },
  {
   "cell_type": "code",
   "execution_count": null,
   "metadata": {},
   "outputs": [
    {
     "data": {
      "image/png": "[encoded data removed]",
      "text/plain": [
       "<Figure size 1000x700 with 12 Axes>"
      ]
     },
     "metadata": {},
     "output_type": "display_data"
    }
   ],
   "source": [
    "fig, axes = plt.subplots(3, 4, figsize=(10, 7), sharex=False)\n",
    "\n",
    "for i in range(3):\n",
    "    for j in range(4):\n",
    "        df_train[\"mfcc{}_mean\".format(i*4+j+1)].hist(bins=200, alpha = 0.5, legend = True, ax = axes[i][j])\n",
    "        df_train[\"mfcc{}std\".format(i*4+j+1)].hist(bins=200, alpha = 0.5, legend = True, ax = axes[i][j])\n",
    "\n",
    "fig.suptitle(\"MFCCs\")\n",
    "\n",
    "# set the x axis to a limit of [-200, 2000] for all plots\n",
    "for i in range(3):\n",
    "    for j in range(4):\n",
    "        axes[i][j].set_xlim([-200, 2000])\n",
    "        \n",
    "plt.tight_layout()"
   ]
  }
 ],
 "metadata": {
  "kernelspec": {
   "display_name": "Python 3.10.6 ('base')",
   "language": "python",
   "name": "python3"
  },
  "language_info": {
   "codemirror_mode": {
    "name": "ipython",
    "version": 3
   },
   "file_extension": ".py",
   "mimetype": "text/x-python",
   "name": "python",
   "nbconvert_exporter": "python",
   "pygments_lexer": "ipython3",
   "version": "3.10.6"
  },
  "orig_nbformat": 4,
  "vscode": {
   "interpreter": {
    "hash": "d4d1e4263499bec80672ea0156c357c1ee493ec2b1c70f0acce89fc37c4a6abe"
   }
  }
 },
 "nbformat": 4,
 "nbformat_minor": 2
}
